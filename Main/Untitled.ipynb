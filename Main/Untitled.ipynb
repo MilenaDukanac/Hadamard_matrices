{
 "cells": [
  {
   "cell_type": "markdown",
   "metadata": {},
   "source": [
    "# Hadamarove matrice i njihova primena\n",
    "\n",
    "Postoje dve metode, koje se često koriste za izradu primera algebarskih i kombinatornih struktura. Jedna od ovih metoda počinje sa najmanje jednim poznatim primerom željene strukture, a potom se dalje konstruišu strukture slične vrste. Takav metod konstrukcije naziva se __rekurzivnim__. Druga metoda (ili metode) je jednostavno generisanje željene strukture nakon određenih parametara koji se odnose na nju. Mi ćemo to nazvati metod konstrukcije _ab initio_ metod.\n",
    "\n",
    "Hadamarove matrice su algebarska struktura u smislu da one formiraju vaznu potklasu klase matrica i stoga mora da zadovoljava sva algebarska pravila koje uključuju uobičajene operacije sabiranja i množenja. Sa druge strane, Hadamarove matrice su kombinatorne strukture koje se sastoje od +1 i -1, a matrice koje čine strukturu ovih matrica moraju zadovoljavati određena pravila. Očekuje se da možemo koristiti oba metoda za konstrukciju Hadamarovih matrica - i rekurzivni i ab initio metod.\n",
    "\n",
    "Hadamarova matrica reda n zadovoljava jednakost $ H'H = HH' = nI_n $. H' predstavlja transponovanu matricu $H$, a $I_n$ jediničnu matricu reda n.\n",
    "\n",
    "Ako je H Hadamarova matrica, iz definicije sledi da skup vektora redova matrice H, kao i skup vektora kolona matrice H formiraju međusobno ortogonalne skupove."
   ]
  },
  {
   "cell_type": "code",
   "execution_count": 334,
   "metadata": {},
   "outputs": [],
   "source": [
    "import numpy as np\n",
    "from numpy import linalg as LA\n",
    "from IPython.display import display, Math, Latex\n",
    "from matplotlib import pyplot as plt\n",
    "\n",
    "def is_Hadamard(H):\n",
    "    n = H.shape[0]\n",
    "\n",
    "    return np.allclose(np.dot(H.transpose(), H), n * np.eye(n))"
   ]
  },
  {
   "cell_type": "code",
   "execution_count": 335,
   "metadata": {},
   "outputs": [],
   "source": [
    "#H = np.array([[1, 1], [1, -1]]) uneti zeljenu matricu"
   ]
  },
  {
   "cell_type": "code",
   "execution_count": 336,
   "metadata": {},
   "outputs": [],
   "source": [
    "#is_Hadamard(H)"
   ]
  },
  {
   "cell_type": "markdown",
   "metadata": {},
   "source": [
    "# Osobine\n",
    "\n",
    "- Ukoliko se redovi i kolone Hadamarove matrice permutuju, matrica ostaje Hadamarova.\n",
    "- Ako bilo koji red ili kolonu pomnožimo sa -1, Hadamarovo svojstvo se zadržava.\n",
    "- Uvek je moguće urediti prvi red i prvu kolonu Hadamarove matrice tako da se sastoje samo od +1. Ovakva matrica se naziva **normalizovana**."
   ]
  },
  {
   "cell_type": "markdown",
   "metadata": {},
   "source": [
    "# Konstrukcija Hadamarovih matrica reda 4n\n",
    "\n",
    "Na početku ćemo uvesti pojam **Kronekerovog proizvoda** matrica M i N.\n",
    "Neka je matrica $M = (m_{ij})$ reda m x p i $N = (n_{ij})$ matrica reda n x q. Kronekerov proizvod M x N je matrica reda mn x pq u kojoj je svaki element oblika $m_{ij}N$"
   ]
  },
  {
   "cell_type": "code",
   "execution_count": 337,
   "metadata": {},
   "outputs": [
    {
     "data": {
      "text/latex": [
       "\\[\n",
       "M \\times N = \\begin{bmatrix}\n",
       "    m_{11}N & m_{12}N & \\dots & m_{1p}N \\\\\n",
       "    m_{21}N & m_{22}N & \\dots & m_{2p}N \\\\\n",
       "    \\vdots  & \\vdots  & \\ddots & \\vdots \\\\\n",
       "    m_{m1}N &  m_{m2} & \\dots & m_{mp}N\n",
       "\\end{bmatrix}\n",
       "\\]"
      ],
      "text/plain": [
       "<IPython.core.display.Latex object>"
      ]
     },
     "metadata": {},
     "output_type": "display_data"
    }
   ],
   "source": [
    "%%latex\n",
    "\\[\n",
    "M \\times N = \\begin{bmatrix}\n",
    "    m_{11}N & m_{12}N & \\dots & m_{1p}N \\\\\n",
    "    m_{21}N & m_{22}N & \\dots & m_{2p}N \\\\\n",
    "    \\vdots  & \\vdots  & \\ddots & \\vdots \\\\\n",
    "    m_{m1}N &  m_{m2} & \\dots & m_{mp}N\n",
    "\\end{bmatrix}\n",
    "\\]"
   ]
  },
  {
   "cell_type": "markdown",
   "metadata": {},
   "source": [
    "# Primer"
   ]
  },
  {
   "cell_type": "code",
   "execution_count": 338,
   "metadata": {},
   "outputs": [
    {
     "data": {
      "text/latex": [
       "\\begin{equation}\n",
       "M = \\begin{bmatrix}\n",
       "    1 & 1 \\\\\n",
       "    1 & -1 \\\\\n",
       "\\end{bmatrix}\n",
       "\\end{equation}"
      ],
      "text/plain": [
       "<IPython.core.display.Latex object>"
      ]
     },
     "metadata": {},
     "output_type": "display_data"
    }
   ],
   "source": [
    "%%latex\n",
    "\\begin{equation}\n",
    "M = \\begin{bmatrix}\n",
    "    1 & 1 \\\\\n",
    "    1 & -1 \\\\\n",
    "\\end{bmatrix}\n",
    "\\end{equation}"
   ]
  },
  {
   "cell_type": "code",
   "execution_count": 339,
   "metadata": {},
   "outputs": [
    {
     "data": {
      "text/latex": [
       "\\begin{equation}\n",
       "N = \\begin{bmatrix}\n",
       "    -1 & 1 & 1 & 1 \\\\\n",
       "    1 & -1 & 1 & 1 \\\\\n",
       "    1 & 1 & -1 & 1 \\\\\n",
       "    1 & 1 & 1 & -1 \\\\\n",
       "\\end{bmatrix}\n",
       "\\end{equation}"
      ],
      "text/plain": [
       "<IPython.core.display.Latex object>"
      ]
     },
     "metadata": {},
     "output_type": "display_data"
    }
   ],
   "source": [
    "%%latex\n",
    "\\begin{equation}\n",
    "N = \\begin{bmatrix}\n",
    "    -1 & 1 & 1 & 1 \\\\\n",
    "    1 & -1 & 1 & 1 \\\\\n",
    "    1 & 1 & -1 & 1 \\\\\n",
    "    1 & 1 & 1 & -1 \\\\\n",
    "\\end{bmatrix}\n",
    "\\end{equation}"
   ]
  },
  {
   "cell_type": "code",
   "execution_count": 340,
   "metadata": {},
   "outputs": [
    {
     "data": {
      "text/latex": [
       "\\[\n",
       "M \\times N = \\begin{bmatrix}\n",
       "N & N \\\\\n",
       "N & -N \\\\\n",
       "\\end{bmatrix} = \\begin{bmatrix}\n",
       "    -1 & 1 & 1 & 1 & \\, & -1 & 1 & 1 & 1 \\\\\n",
       "    1 & -1 & 1 & 1 & \\, & 1 & -1 & 1 & 1 \\\\\n",
       "    1 & 1 & -1 & 1 & \\, & 1 & 1 & -1 & 1 \\\\\n",
       "    1 & 1 & 1 & -1 & \\, & 1 & 1 & 1 & -1 \\\\\n",
       "      &   &   &    &    &   &   &   &    \\\\\n",
       "    -1 & 1 & 1 & 1 & \\, & 1 & -1 & -1 & -1 \\\\\n",
       "    1 & -1 & 1 & 1 & \\, & -1 & 1 & -1 & -1 \\\\\n",
       "    1 & 1 & -1 & 1 & \\, & -1 & -1 & 1 & -1 \\\\\n",
       "    1 & 1 & 1 & -1 & \\, & -1 & -1 & -1 & 1 \\\\\n",
       "\\end{bmatrix}\n",
       "\\]"
      ],
      "text/plain": [
       "<IPython.core.display.Latex object>"
      ]
     },
     "metadata": {},
     "output_type": "display_data"
    }
   ],
   "source": [
    "%%latex\n",
    "\\[\n",
    "M \\times N = \\begin{bmatrix}\n",
    "N & N \\\\\n",
    "N & -N \\\\\n",
    "\\end{bmatrix} = \\begin{bmatrix}\n",
    "    -1 & 1 & 1 & 1 & \\, & -1 & 1 & 1 & 1 \\\\\n",
    "    1 & -1 & 1 & 1 & \\, & 1 & -1 & 1 & 1 \\\\\n",
    "    1 & 1 & -1 & 1 & \\, & 1 & 1 & -1 & 1 \\\\\n",
    "    1 & 1 & 1 & -1 & \\, & 1 & 1 & 1 & -1 \\\\\n",
    "      &   &   &    &    &   &   &   &    \\\\\n",
    "    -1 & 1 & 1 & 1 & \\, & 1 & -1 & -1 & -1 \\\\\n",
    "    1 & -1 & 1 & 1 & \\, & -1 & 1 & -1 & -1 \\\\\n",
    "    1 & 1 & -1 & 1 & \\, & -1 & -1 & 1 & -1 \\\\\n",
    "    1 & 1 & 1 & -1 & \\, & -1 & -1 & -1 & 1 \\\\\n",
    "\\end{bmatrix}\n",
    "\\]"
   ]
  },
  {
   "cell_type": "markdown",
   "metadata": {},
   "source": [
    "U okviru biblioteke scipy možemo importovati paket linalg u okviru koga postoji funkcija *hadamard(n)* koja konstruiše Hadamarovu matricu reda n, pri čemu je n pozitivan ceo broj koji mora biti stepen dvojke."
   ]
  },
  {
   "cell_type": "code",
   "execution_count": 341,
   "metadata": {},
   "outputs": [],
   "source": [
    "from scipy import linalg as LAs"
   ]
  },
  {
   "cell_type": "code",
   "execution_count": 342,
   "metadata": {},
   "outputs": [],
   "source": [
    "#H = LAs.hadamard(4)\n",
    "#H"
   ]
  },
  {
   "cell_type": "markdown",
   "metadata": {},
   "source": [
    "# Williamson-ov metod"
   ]
  },
  {
   "cell_type": "markdown",
   "metadata": {},
   "source": [
    "Posmatrajmo sledeću matričnu jednakost"
   ]
  },
  {
   "cell_type": "code",
   "execution_count": 343,
   "metadata": {},
   "outputs": [
    {
     "data": {
      "text/latex": [
       "\\begin{equation}\n",
       "H = \\begin{bmatrix}\n",
       "    -a & b & c & d \\\\\n",
       "    b & a & d & -c \\\\\n",
       "    c & -d & a & b \\\\\n",
       "    d & c & -b & a \\\\\n",
       "\\end{bmatrix} \\rightarrow HH' = (a^2 + b^2 + c^2 + d^2)I_4\n",
       "\\end{equation} "
      ],
      "text/plain": [
       "<IPython.core.display.Latex object>"
      ]
     },
     "metadata": {},
     "output_type": "display_data"
    }
   ],
   "source": [
    "%%latex\n",
    "\\begin{equation}\n",
    "H = \\begin{bmatrix}\n",
    "    -a & b & c & d \\\\\n",
    "    b & a & d & -c \\\\\n",
    "    c & -d & a & b \\\\\n",
    "    d & c & -b & a \\\\\n",
    "\\end{bmatrix} \\rightarrow HH' = (a^2 + b^2 + c^2 + d^2)I_4\n",
    "\\end{equation} "
   ]
  },
  {
   "cell_type": "markdown",
   "metadata": {},
   "source": [
    "koja važi za sve ulaze iz komutativnog prstena.\n",
    "Ako možemo naći 4 nxn simetrične komutativne matrice A, B, C i D koji uzimaju vrednosti +1 i -1 takve da važi $A^2 + B^2 + C^2 + D^2 = 4nI_n$, onda postoji Hadamarova matrica reda 4n."
   ]
  },
  {
   "cell_type": "markdown",
   "metadata": {},
   "source": [
    "Hadamarove matrice konstruisane na ovaj način nazivamo matricama Williamson-ovog tipa.\n",
    "Matrice koje se koriste u ovoj konstrukciji moraju biti *cirkularne*. To znači da je svaki red ciklična permutacija prethodnog reda."
   ]
  },
  {
   "cell_type": "markdown",
   "metadata": {},
   "source": [
    "Poznate su konstrukcije za redove 12, 20, 28, 36, 44, 52, 60, 68, 76, 84, 92, 100, 108, 116, 148, 172, ..."
   ]
  },
  {
   "cell_type": "markdown",
   "metadata": {},
   "source": [
    "Hadamarove matrice reda 4t (t>1) mogu biti upotrebljene za konstrukciju simetričnih **BIBD** (Balanced Incomplete Block Designs) koje nazivamo **Hadamarovi 2-dizajni** (Hadamard 2-Designs)."
   ]
  },
  {
   "cell_type": "markdown",
   "metadata": {},
   "source": [
    "Konstrukcija zapravo formira incidentne matrice BIBD-a od kojih se pomenuti dizajni lako dobijaju.\n",
    "Hadamarovi dizani imaju parametre  v = 4t – 1, k = 2t - 1 i λ= t - 1 ili v = 4t - 1, k = 2t i  λ= t."
   ]
  },
  {
   "cell_type": "markdown",
   "metadata": {},
   "source": [
    "Konstrukcija je inverzna tako da BIBDs sa ovim parametrima može biti upotrebljena za konstrukciju Hadamarovih matrica."
   ]
  },
  {
   "cell_type": "markdown",
   "metadata": {},
   "source": [
    "Za Hadamarove matrice važi sledeća osobina: Ako su $H_1$ i $H_2$ Hadamarove matrice reda n1 i n2 respektivno, onda je $H_1\\times H_2$ Hadamarova matrica reda $n_1n_2$."
   ]
  },
  {
   "cell_type": "markdown",
   "metadata": {},
   "source": [
    "Funkcija koja vraća Kronekerov proizvod dveju matrica implementirana je na sledeći način:"
   ]
  },
  {
   "cell_type": "code",
   "execution_count": 344,
   "metadata": {},
   "outputs": [],
   "source": [
    "def Kronecker_product( A , B ):\n",
    "    n1 = A.shape[0]\n",
    "    n2 = B.shape[0]\n",
    "    \n",
    "    C = [[0 for j in range(n1 * n2)] for i in range(n1 * n2)]\n",
    "  \n",
    "    for i in range(0, n1):\n",
    "        for k in range(0, n2):\n",
    "            for j in range(0, n1):\n",
    "                for l in range(0, n2):\n",
    "                    C[i + l + 1][j + k + 1] = A[i][j] * B[k][l]\n",
    "                    print (C[i + l + 1][j + k + 1],end=' ')\n",
    "                    \n",
    "            print (\"\\n\") \n",
    "    return C"
   ]
  },
  {
   "cell_type": "code",
   "execution_count": 345,
   "metadata": {},
   "outputs": [
    {
     "data": {
      "text/plain": [
       "array([[ 1,  1],\n",
       "       [ 1, -1]])"
      ]
     },
     "execution_count": 345,
     "metadata": {},
     "output_type": "execute_result"
    }
   ],
   "source": [
    "A = LAs.hadamard(2)\n",
    "B = LAs.hadamard(4)\n",
    "A"
   ]
  },
  {
   "cell_type": "code",
   "execution_count": 346,
   "metadata": {},
   "outputs": [
    {
     "data": {
      "text/plain": [
       "array([[ 1,  1,  1,  1],\n",
       "       [ 1, -1,  1, -1],\n",
       "       [ 1,  1, -1, -1],\n",
       "       [ 1, -1, -1,  1]])"
      ]
     },
     "execution_count": 346,
     "metadata": {},
     "output_type": "execute_result"
    }
   ],
   "source": [
    "B"
   ]
  },
  {
   "cell_type": "code",
   "execution_count": 347,
   "metadata": {},
   "outputs": [
    {
     "name": "stdout",
     "output_type": "stream",
     "text": [
      "1 1 1 1 1 1 1 1 \n",
      "\n",
      "1 -1 1 -1 1 -1 1 -1 \n",
      "\n",
      "1 1 -1 -1 1 1 -1 -1 \n",
      "\n",
      "1 -1 -1 1 1 -1 -1 1 \n",
      "\n",
      "1 1 1 1 -1 -1 -1 -1 \n",
      "\n",
      "1 -1 1 -1 -1 1 -1 1 \n",
      "\n",
      "1 1 -1 -1 -1 -1 1 1 \n",
      "\n",
      "1 -1 -1 1 -1 1 1 -1 \n",
      "\n"
     ]
    },
    {
     "data": {
      "text/plain": [
       "[[0, 0, 0, 0, 0, 0, 0, 0],\n",
       " [0, 1, 1, 1, 1, 1, 0, 0],\n",
       " [0, 1, 1, 1, 1, -1, 0, 0],\n",
       " [0, 1, -1, 1, -1, 1, 0, 0],\n",
       " [0, 1, 1, -1, -1, 1, 0, 0],\n",
       " [0, 1, -1, -1, 1, -1, 0, 0],\n",
       " [0, 0, 0, 0, 0, 0, 0, 0],\n",
       " [0, 0, 0, 0, 0, 0, 0, 0]]"
      ]
     },
     "execution_count": 347,
     "metadata": {},
     "output_type": "execute_result"
    }
   ],
   "source": [
    "Kronecker_product(A, B)"
   ]
  },
  {
   "cell_type": "markdown",
   "metadata": {},
   "source": [
    "Gore navedeno svojstvo možemo iskoristiti za konstrukciju Hadamarove matrice reda 4n (znamo da postoji Hadamarova matrica reda 2, a Kronekerovim proizvodom dve takve matrice se dobija Hadamarova matrica reda 4)."
   ]
  },
  {
   "cell_type": "markdown",
   "metadata": {},
   "source": [
    "## Implementacija funkcije koja prikazuje Hadamarove matrice na način crno-belih kvadrata"
   ]
  },
  {
   "cell_type": "code",
   "execution_count": 348,
   "metadata": {},
   "outputs": [],
   "source": [
    "def color_hadamard(H):\n",
    "    plt.matshow(H, cmap = 'gray', interpolation = 'none')"
   ]
  },
  {
   "cell_type": "code",
   "execution_count": 349,
   "metadata": {},
   "outputs": [
    {
     "data": {
      "text/plain": [
       "array([[ 1,  1,  1,  1,  1,  1,  1,  1,  1,  1,  1,  1,  1,  1,  1,  1],\n",
       "       [ 1, -1,  1, -1,  1, -1,  1, -1,  1, -1,  1, -1,  1, -1,  1, -1],\n",
       "       [ 1,  1, -1, -1,  1,  1, -1, -1,  1,  1, -1, -1,  1,  1, -1, -1],\n",
       "       [ 1, -1, -1,  1,  1, -1, -1,  1,  1, -1, -1,  1,  1, -1, -1,  1],\n",
       "       [ 1,  1,  1,  1, -1, -1, -1, -1,  1,  1,  1,  1, -1, -1, -1, -1],\n",
       "       [ 1, -1,  1, -1, -1,  1, -1,  1,  1, -1,  1, -1, -1,  1, -1,  1],\n",
       "       [ 1,  1, -1, -1, -1, -1,  1,  1,  1,  1, -1, -1, -1, -1,  1,  1],\n",
       "       [ 1, -1, -1,  1, -1,  1,  1, -1,  1, -1, -1,  1, -1,  1,  1, -1],\n",
       "       [ 1,  1,  1,  1,  1,  1,  1,  1, -1, -1, -1, -1, -1, -1, -1, -1],\n",
       "       [ 1, -1,  1, -1,  1, -1,  1, -1, -1,  1, -1,  1, -1,  1, -1,  1],\n",
       "       [ 1,  1, -1, -1,  1,  1, -1, -1, -1, -1,  1,  1, -1, -1,  1,  1],\n",
       "       [ 1, -1, -1,  1,  1, -1, -1,  1, -1,  1,  1, -1, -1,  1,  1, -1],\n",
       "       [ 1,  1,  1,  1, -1, -1, -1, -1, -1, -1, -1, -1,  1,  1,  1,  1],\n",
       "       [ 1, -1,  1, -1, -1,  1, -1,  1, -1,  1, -1,  1,  1, -1,  1, -1],\n",
       "       [ 1,  1, -1, -1, -1, -1,  1,  1, -1, -1,  1,  1,  1,  1, -1, -1],\n",
       "       [ 1, -1, -1,  1, -1,  1,  1, -1, -1,  1,  1, -1,  1, -1, -1,  1]])"
      ]
     },
     "execution_count": 349,
     "metadata": {},
     "output_type": "execute_result"
    }
   ],
   "source": [
    "H = LAs.hadamard(16)\n",
    "H"
   ]
  },
  {
   "cell_type": "code",
   "execution_count": 350,
   "metadata": {},
   "outputs": [
    {
     "data": {
      "image/png": "[encoded data removed]",
      "text/plain": [
       "<matplotlib.figure.Figure at 0xb8a6128>"
      ]
     },
     "metadata": {},
     "output_type": "display_data"
    }
   ],
   "source": [
    "color_hadamard(H)"
   ]
  },
  {
   "cell_type": "markdown",
   "metadata": {},
   "source": [
    "# Primena Hadamarovih matrica"
   ]
  },
  {
   "cell_type": "markdown",
   "metadata": {},
   "source": [
    "## Merenje objekata"
   ]
  },
  {
   "cell_type": "markdown",
   "metadata": {},
   "source": [
    "Pretpostavimo da imamo p objekata i da je izvršeno n merenja na vagi sa dva tasa. Neka je $x_{ij}=1$, ako je j-ti objekat postavljen na levi tas u i-tom merenju, a $x_{ij}=-1$, ako je j-ti objekat postavljen na desni tas u i-tom merenju. Onda nxp matrica $X=(x_{ij})$ u potpunosti karakteriše eksperiment merenja. Označimo stvarne težine p objekata sa $w_1, w_2, ..., w_p$, a sa $y_1, y_2, ..., y_n$ rezultate merenja (tako da očitavanje pokazuje da težina levog prevazilazi težinu desnog za  $y_i$ u i-tom merenju). Označimo kolone vektora w i y sa W i Y. Očitavanja mogu biti predstavljena linearnim modelom: $Y=XW+e$, gde je vektor kolone $e_1, e_2, ..., e_n$ i $e_i$ greška između stvarne i očitane težine. e je slučajni vektor sa relativno malim vrednostima. Sredina je 0, a matrica kovarijanse $\\sigma^2I$."
   ]
  },
  {
   "cell_type": "markdown",
   "metadata": {},
   "source": [
    "Linearni model $Y = XW + e$ je ekvivalentan sa sledećim sistemom jednačina"
   ]
  },
  {
   "cell_type": "code",
   "execution_count": 393,
   "metadata": {},
   "outputs": [
    {
     "data": {
      "text/latex": [
       "$$y_1 = x_{11}w_1 + x_{12}w_2 + x_{13}w_3 + x_{14}w_4 + e_1$$\n",
       "$$y_2 = x_{21}w_1 + x_{22}w_2 + x_{23}w_3 + x_{24}w_4 + e_2$$\n",
       "$$y_3 = x_{31}w_1 + x_{32}w_2 + x_{33}w_3 + x_{34}w_4 + e_3$$\n",
       "$$y_4 = x_{41}w_1 + x_{42}w_2 + x_{43}w_3 + x_{44}w_4 + e_4$$"
      ],
      "text/plain": [
       "<IPython.core.display.Latex object>"
      ]
     },
     "metadata": {},
     "output_type": "display_data"
    }
   ],
   "source": [
    "%%latex\n",
    "$$y_1 = x_{11}w_1 + x_{12}w_2 + x_{13}w_3 + x_{14}w_4 + e_1$$\n",
    "$$y_2 = x_{21}w_1 + x_{22}w_2 + x_{23}w_3 + x_{24}w_4 + e_2$$\n",
    "$$y_3 = x_{31}w_1 + x_{32}w_2 + x_{33}w_3 + x_{34}w_4 + e_3$$\n",
    "$$y_4 = x_{41}w_1 + x_{42}w_2 + x_{43}w_3 + x_{44}w_4 + e_4$$"
   ]
  },
  {
   "cell_type": "markdown",
   "metadata": {},
   "source": [
    "Hotteling(1944) je pokazao da varijansa $w_i$ ne može biti manja od $\\sigma^2n$ za svako merenje. Stoga ćemo dizajn merenja  X nazvati optimalnim, ako se svako merenje procenjuje sa ovom minimalnom varijansom $\\sigma^2n$.  Kifer je 1975. u svom radu pokazao da je dizajn X merenja **optimalan**, ako je X matrica reda $n \\times p$, sastoji se samo od 1 i -1, njene kolone su ortogonalne i izvučene su iz Hadamarove matrice.\n"
   ]
  },
  {
   "cell_type": "code",
   "execution_count": 395,
   "metadata": {},
   "outputs": [],
   "source": [
    "#Prvo posmatramo slučaj matrice X reda 4x4 sa ulazima 1 i -1, koji se biraju na slučajan način.\n",
    "X_rand = np.array([[np.random.choice([-1, 1]) for i in range(4)] for j in range(4)])\n",
    "#X_rand"
   ]
  },
  {
   "cell_type": "code",
   "execution_count": 352,
   "metadata": {},
   "outputs": [],
   "source": [
    "H = LAs.hadamard(4)\n",
    "#H"
   ]
  },
  {
   "cell_type": "code",
   "execution_count": 386,
   "metadata": {},
   "outputs": [],
   "source": [
    "#Vektor W stvarnih veličina predmata koji se mere\n",
    "W = np.array([1.5, 3.7, 2.9, 4.8])\n",
    "#W"
   ]
  },
  {
   "cell_type": "code",
   "execution_count": 354,
   "metadata": {},
   "outputs": [],
   "source": [
    "e = np.random.rand(4)\n",
    "#e"
   ]
  },
  {
   "cell_type": "code",
   "execution_count": 355,
   "metadata": {},
   "outputs": [],
   "source": [
    "from sklearn import metrics"
   ]
  },
  {
   "cell_type": "code",
   "execution_count": 356,
   "metadata": {},
   "outputs": [],
   "source": [
    "X = np.zeros((4, 4))"
   ]
  },
  {
   "cell_type": "code",
   "execution_count": 357,
   "metadata": {},
   "outputs": [],
   "source": [
    "for i in range(4):\n",
    "    for j in range(4):\n",
    "        X[i][j] = X_rand[i][j] * W[j]"
   ]
  },
  {
   "cell_type": "code",
   "execution_count": 358,
   "metadata": {},
   "outputs": [
    {
     "data": {
      "text/plain": [
       "array([[-1.5, -3.7, -2.9,  4.8],\n",
       "       [-1.5, -3.7,  2.9, -4.8],\n",
       "       [-1.5,  3.7,  2.9,  4.8],\n",
       "       [ 1.5, -3.7, -2.9,  4.8]])"
      ]
     },
     "execution_count": 358,
     "metadata": {},
     "output_type": "execute_result"
    }
   ],
   "source": [
    "X"
   ]
  },
  {
   "cell_type": "code",
   "execution_count": 359,
   "metadata": {},
   "outputs": [
    {
     "data": {
      "text/plain": [
       "array([-4.28278876, -7.5409523 ,  9.23222181, -0.45749701])"
      ]
     },
     "execution_count": 359,
     "metadata": {},
     "output_type": "execute_result"
    }
   ],
   "source": [
    "Y = np.array([np.sum(X[i]) for i in range(4)]) - e\n",
    "Y"
   ]
  },
  {
   "cell_type": "code",
   "execution_count": 360,
   "metadata": {},
   "outputs": [
    {
     "data": {
      "text/plain": [
       "array([1.91264587, 3.99922466, 2.75828063, 4.3873624 ])"
      ]
     },
     "execution_count": 360,
     "metadata": {},
     "output_type": "execute_result"
    }
   ],
   "source": [
    "result = LA.lstsq(X_rand, Y, rcond = None)\n",
    "result[0]"
   ]
  },
  {
   "cell_type": "code",
   "execution_count": 396,
   "metadata": {},
   "outputs": [],
   "source": [
    "#Sada posmatramo slučaj kada je matrica X Hadamarova matrica\n",
    "X_hadamard = np.zeros((4, 4))\n",
    "for i in range(4):\n",
    "    for j in range(4):\n",
    "        X_hadamard[i][j] = H[i][j] * W[j]\n",
    "#X_hadamard"
   ]
  },
  {
   "cell_type": "code",
   "execution_count": 362,
   "metadata": {},
   "outputs": [],
   "source": [
    "Y_hadamard = np.array([np.sum(X_hadamard[i]) for i in range(4)]) - e\n",
    "#Y_hadamard"
   ]
  },
  {
   "cell_type": "code",
   "execution_count": 363,
   "metadata": {},
   "outputs": [
    {
     "data": {
      "text/plain": [
       "array([0.93774593, 3.43697059, 2.75038353, 4.79211118])"
      ]
     },
     "execution_count": 363,
     "metadata": {},
     "output_type": "execute_result"
    }
   ],
   "source": [
    "result_H = LA.lstsq(H, Y_hadamard, rcond = None)\n",
    "result_H[0]"
   ]
  },
  {
   "cell_type": "code",
   "execution_count": 364,
   "metadata": {},
   "outputs": [
    {
     "data": {
      "text/plain": [
       "0.1125415450828123"
      ]
     },
     "execution_count": 364,
     "metadata": {},
     "output_type": "execute_result"
    }
   ],
   "source": [
    "error_rand = metrics.mean_squared_error(W, result[0])\n",
    "error_rand"
   ]
  },
  {
   "cell_type": "code",
   "execution_count": 365,
   "metadata": {},
   "outputs": [
    {
     "data": {
      "text/plain": [
       "0.1019403560110177"
      ]
     },
     "execution_count": 365,
     "metadata": {},
     "output_type": "execute_result"
    }
   ],
   "source": [
    "error_H = metrics.mean_squared_error(W, result_H[0])\n",
    "error_H"
   ]
  },
  {
   "cell_type": "markdown",
   "metadata": {},
   "source": [
    "Na osnovu greške zaključujemo da Hadamarova matrica daje optimalan raspored objekata na tasovima."
   ]
  },
  {
   "cell_type": "markdown",
   "metadata": {},
   "source": [
    "## Screening problem"
   ]
  },
  {
   "cell_type": "markdown",
   "metadata": {},
   "source": [
    "Matrica nad dva simbola sa N redova i k kolona je (N, k, p) **screening dizajn**, ako za svaki izbor od p kolona, svaki od $2^p$ vektora redova se pojavljuje najmanje jedanput. Skrining modeli su korisni u situacijama u kojima se ispituje veliki broj faktora (q), a očekuje se da samo nekoliko (k) njih bude važno. Skrininzi koji nastaju od Hadamarovih matrica se koriste za detektovanje glavnih efekata, a sve to zbog složene strukture. Ne gubeći na opštosti, možemo pretpostaviti da prva kolona Hadamarove matrice sadrži samo jedinice. Uklanjanjem ove kolone dobijamo (N, N-1) skrining dizajn, gde je $p \\geq 2$. Neki skrining dizajni ovog oblika su otkriveni od strane Plackett-a i Burman-a (1946) i poznati su kao **Plackett-Burman-ovi dizajni**. Ovi modeli se mogu konstruisati od prvog reda koji sadrži N-1 elemenata dobijenih cikličnim premeštanjem. Drugi red se dobija pomeranjem svih elemenata prvog reda za jednu poziciju nadesno i stavljanjem poslednjeg elementa na prvu poziciju. Treći red se dobija od drugog na isti način, a proces se zaustavlja kada je generisano N-1 redova. Red koji se sastoji samo od -1 se dodaje kao poslednji red i tako se kompletira model sa N redova i N-1 kolona. Dodavanjem kolone koja se sastoji samo od jedinica u Plackett-Burman-ov dizajn sa N redova dobijamo Hadamarovu matricu reda N. Zapravo, Plackett i Burman  su konstruisali Hadamarove matrice reda N, za sve $N \\leq 100$, osim za $N = 92$ koja je konstruisana kasnije od strane Baumert-a, Colomb-a i Hall-a 1962. Nakon identifikovanja aktivnih faktora, originalni model se projektuje u k dimenzija radi vršenja daljih analiza - biramo kolone koje odgovaraju aktivnim faktorima kako bismo formirali novi dizajn sa N redova i k kolona koji se naziva **projekcija**. Kako izbor k kolona zavisi od ishoda analiza, poželjno je proučiti osobine svih projekcija dizajna koje mogu nastati."
   ]
  },
  {
   "cell_type": "markdown",
   "metadata": {},
   "source": [
    "## Matrica genetskog koda za tip _Vertebrate_"
   ]
  },
  {
   "cell_type": "code",
   "execution_count": 366,
   "metadata": {},
   "outputs": [],
   "source": [
    "import pandas as pd\n",
    "genomatrix=pd.read_csv('../genomatrix.csv')"
   ]
  },
  {
   "cell_type": "code",
   "execution_count": 367,
   "metadata": {},
   "outputs": [],
   "source": [
    "gen = genomatrix[['Kodon', 'Amino', 'Boja']][:64]"
   ]
  },
  {
   "cell_type": "code",
   "execution_count": 368,
   "metadata": {},
   "outputs": [
    {
     "data": {
      "text/html": [
       "<div>\n",
       "<style scoped>\n",
       "    .dataframe tbody tr th:only-of-type {\n",
       "        vertical-align: middle;\n",
       "    }\n",
       "\n",
       "    .dataframe tbody tr th {\n",
       "        vertical-align: top;\n",
       "    }\n",
       "\n",
       "    .dataframe thead th {\n",
       "        text-align: right;\n",
       "    }\n",
       "</style>\n",
       "<table border=\"1\" class=\"dataframe\">\n",
       "  <thead>\n",
       "    <tr style=\"text-align: right;\">\n",
       "      <th></th>\n",
       "      <th>Kodon</th>\n",
       "      <th>Amino</th>\n",
       "      <th>Boja</th>\n",
       "    </tr>\n",
       "  </thead>\n",
       "  <tbody>\n",
       "    <tr>\n",
       "      <th>0</th>\n",
       "      <td>CCC</td>\n",
       "      <td>Pro</td>\n",
       "      <td>-1</td>\n",
       "    </tr>\n",
       "    <tr>\n",
       "      <th>1</th>\n",
       "      <td>CCA</td>\n",
       "      <td>Pro</td>\n",
       "      <td>-1</td>\n",
       "    </tr>\n",
       "    <tr>\n",
       "      <th>2</th>\n",
       "      <td>CAC</td>\n",
       "      <td>His</td>\n",
       "      <td>1</td>\n",
       "    </tr>\n",
       "    <tr>\n",
       "      <th>3</th>\n",
       "      <td>CAA</td>\n",
       "      <td>Gln</td>\n",
       "      <td>1</td>\n",
       "    </tr>\n",
       "    <tr>\n",
       "      <th>4</th>\n",
       "      <td>CCU</td>\n",
       "      <td>Pro</td>\n",
       "      <td>-1</td>\n",
       "    </tr>\n",
       "    <tr>\n",
       "      <th>5</th>\n",
       "      <td>CCG</td>\n",
       "      <td>Pro</td>\n",
       "      <td>-1</td>\n",
       "    </tr>\n",
       "    <tr>\n",
       "      <th>6</th>\n",
       "      <td>CAU</td>\n",
       "      <td>His</td>\n",
       "      <td>1</td>\n",
       "    </tr>\n",
       "    <tr>\n",
       "      <th>7</th>\n",
       "      <td>CAG</td>\n",
       "      <td>Gln</td>\n",
       "      <td>1</td>\n",
       "    </tr>\n",
       "    <tr>\n",
       "      <th>8</th>\n",
       "      <td>CUC</td>\n",
       "      <td>Leu</td>\n",
       "      <td>-1</td>\n",
       "    </tr>\n",
       "    <tr>\n",
       "      <th>9</th>\n",
       "      <td>CUA</td>\n",
       "      <td>Leu</td>\n",
       "      <td>-1</td>\n",
       "    </tr>\n",
       "    <tr>\n",
       "      <th>10</th>\n",
       "      <td>CGC</td>\n",
       "      <td>Arg</td>\n",
       "      <td>-1</td>\n",
       "    </tr>\n",
       "    <tr>\n",
       "      <th>11</th>\n",
       "      <td>CGA</td>\n",
       "      <td>Arg</td>\n",
       "      <td>-1</td>\n",
       "    </tr>\n",
       "    <tr>\n",
       "      <th>12</th>\n",
       "      <td>CUU</td>\n",
       "      <td>Leu</td>\n",
       "      <td>-1</td>\n",
       "    </tr>\n",
       "    <tr>\n",
       "      <th>13</th>\n",
       "      <td>CUG</td>\n",
       "      <td>Leu</td>\n",
       "      <td>-1</td>\n",
       "    </tr>\n",
       "    <tr>\n",
       "      <th>14</th>\n",
       "      <td>CGU</td>\n",
       "      <td>Arg</td>\n",
       "      <td>-1</td>\n",
       "    </tr>\n",
       "    <tr>\n",
       "      <th>15</th>\n",
       "      <td>CGG</td>\n",
       "      <td>Arg</td>\n",
       "      <td>-1</td>\n",
       "    </tr>\n",
       "    <tr>\n",
       "      <th>16</th>\n",
       "      <td>ACC</td>\n",
       "      <td>Thr</td>\n",
       "      <td>-1</td>\n",
       "    </tr>\n",
       "    <tr>\n",
       "      <th>17</th>\n",
       "      <td>ACA</td>\n",
       "      <td>Thr</td>\n",
       "      <td>-1</td>\n",
       "    </tr>\n",
       "    <tr>\n",
       "      <th>18</th>\n",
       "      <td>AAC</td>\n",
       "      <td>Asn</td>\n",
       "      <td>1</td>\n",
       "    </tr>\n",
       "    <tr>\n",
       "      <th>19</th>\n",
       "      <td>AAA</td>\n",
       "      <td>Lys</td>\n",
       "      <td>1</td>\n",
       "    </tr>\n",
       "    <tr>\n",
       "      <th>20</th>\n",
       "      <td>ACU</td>\n",
       "      <td>Thr</td>\n",
       "      <td>-1</td>\n",
       "    </tr>\n",
       "    <tr>\n",
       "      <th>21</th>\n",
       "      <td>ACG</td>\n",
       "      <td>Thr</td>\n",
       "      <td>-1</td>\n",
       "    </tr>\n",
       "    <tr>\n",
       "      <th>22</th>\n",
       "      <td>AAU</td>\n",
       "      <td>Asn</td>\n",
       "      <td>1</td>\n",
       "    </tr>\n",
       "    <tr>\n",
       "      <th>23</th>\n",
       "      <td>AAG</td>\n",
       "      <td>Lys</td>\n",
       "      <td>1</td>\n",
       "    </tr>\n",
       "    <tr>\n",
       "      <th>24</th>\n",
       "      <td>AUC</td>\n",
       "      <td>Ile</td>\n",
       "      <td>1</td>\n",
       "    </tr>\n",
       "    <tr>\n",
       "      <th>25</th>\n",
       "      <td>AUA</td>\n",
       "      <td>Met</td>\n",
       "      <td>1</td>\n",
       "    </tr>\n",
       "    <tr>\n",
       "      <th>26</th>\n",
       "      <td>AGC</td>\n",
       "      <td>Ser</td>\n",
       "      <td>1</td>\n",
       "    </tr>\n",
       "    <tr>\n",
       "      <th>27</th>\n",
       "      <td>AGA</td>\n",
       "      <td>Stop</td>\n",
       "      <td>1</td>\n",
       "    </tr>\n",
       "    <tr>\n",
       "      <th>28</th>\n",
       "      <td>AUU</td>\n",
       "      <td>Ile</td>\n",
       "      <td>1</td>\n",
       "    </tr>\n",
       "    <tr>\n",
       "      <th>29</th>\n",
       "      <td>AUG</td>\n",
       "      <td>Met</td>\n",
       "      <td>1</td>\n",
       "    </tr>\n",
       "    <tr>\n",
       "      <th>...</th>\n",
       "      <td>...</td>\n",
       "      <td>...</td>\n",
       "      <td>...</td>\n",
       "    </tr>\n",
       "    <tr>\n",
       "      <th>34</th>\n",
       "      <td>UAC</td>\n",
       "      <td>Tyr</td>\n",
       "      <td>1</td>\n",
       "    </tr>\n",
       "    <tr>\n",
       "      <th>35</th>\n",
       "      <td>UAA</td>\n",
       "      <td>Stop</td>\n",
       "      <td>1</td>\n",
       "    </tr>\n",
       "    <tr>\n",
       "      <th>36</th>\n",
       "      <td>UCU</td>\n",
       "      <td>Ser</td>\n",
       "      <td>-1</td>\n",
       "    </tr>\n",
       "    <tr>\n",
       "      <th>37</th>\n",
       "      <td>UCG</td>\n",
       "      <td>Ser</td>\n",
       "      <td>-1</td>\n",
       "    </tr>\n",
       "    <tr>\n",
       "      <th>38</th>\n",
       "      <td>UAU</td>\n",
       "      <td>Tyr</td>\n",
       "      <td>1</td>\n",
       "    </tr>\n",
       "    <tr>\n",
       "      <th>39</th>\n",
       "      <td>UAG</td>\n",
       "      <td>Stop</td>\n",
       "      <td>1</td>\n",
       "    </tr>\n",
       "    <tr>\n",
       "      <th>40</th>\n",
       "      <td>UUC</td>\n",
       "      <td>Phe</td>\n",
       "      <td>1</td>\n",
       "    </tr>\n",
       "    <tr>\n",
       "      <th>41</th>\n",
       "      <td>UUA</td>\n",
       "      <td>Leu</td>\n",
       "      <td>1</td>\n",
       "    </tr>\n",
       "    <tr>\n",
       "      <th>42</th>\n",
       "      <td>UGC</td>\n",
       "      <td>Cys</td>\n",
       "      <td>1</td>\n",
       "    </tr>\n",
       "    <tr>\n",
       "      <th>43</th>\n",
       "      <td>UGA</td>\n",
       "      <td>Trp</td>\n",
       "      <td>1</td>\n",
       "    </tr>\n",
       "    <tr>\n",
       "      <th>44</th>\n",
       "      <td>UUU</td>\n",
       "      <td>Phe</td>\n",
       "      <td>1</td>\n",
       "    </tr>\n",
       "    <tr>\n",
       "      <th>45</th>\n",
       "      <td>UUG</td>\n",
       "      <td>Leu</td>\n",
       "      <td>1</td>\n",
       "    </tr>\n",
       "    <tr>\n",
       "      <th>46</th>\n",
       "      <td>UGU</td>\n",
       "      <td>Cys</td>\n",
       "      <td>1</td>\n",
       "    </tr>\n",
       "    <tr>\n",
       "      <th>47</th>\n",
       "      <td>UGG</td>\n",
       "      <td>Trp</td>\n",
       "      <td>1</td>\n",
       "    </tr>\n",
       "    <tr>\n",
       "      <th>48</th>\n",
       "      <td>GCC</td>\n",
       "      <td>Ala</td>\n",
       "      <td>-1</td>\n",
       "    </tr>\n",
       "    <tr>\n",
       "      <th>49</th>\n",
       "      <td>GCA</td>\n",
       "      <td>Ala</td>\n",
       "      <td>-1</td>\n",
       "    </tr>\n",
       "    <tr>\n",
       "      <th>50</th>\n",
       "      <td>GAC</td>\n",
       "      <td>Asp</td>\n",
       "      <td>1</td>\n",
       "    </tr>\n",
       "    <tr>\n",
       "      <th>51</th>\n",
       "      <td>GAA</td>\n",
       "      <td>Glu</td>\n",
       "      <td>1</td>\n",
       "    </tr>\n",
       "    <tr>\n",
       "      <th>52</th>\n",
       "      <td>GCU</td>\n",
       "      <td>Ala</td>\n",
       "      <td>-1</td>\n",
       "    </tr>\n",
       "    <tr>\n",
       "      <th>53</th>\n",
       "      <td>GCG</td>\n",
       "      <td>Ala</td>\n",
       "      <td>-1</td>\n",
       "    </tr>\n",
       "    <tr>\n",
       "      <th>54</th>\n",
       "      <td>GAU</td>\n",
       "      <td>Asp</td>\n",
       "      <td>1</td>\n",
       "    </tr>\n",
       "    <tr>\n",
       "      <th>55</th>\n",
       "      <td>GAG</td>\n",
       "      <td>Glu</td>\n",
       "      <td>1</td>\n",
       "    </tr>\n",
       "    <tr>\n",
       "      <th>56</th>\n",
       "      <td>GUC</td>\n",
       "      <td>Val</td>\n",
       "      <td>-1</td>\n",
       "    </tr>\n",
       "    <tr>\n",
       "      <th>57</th>\n",
       "      <td>GUA</td>\n",
       "      <td>Val</td>\n",
       "      <td>-1</td>\n",
       "    </tr>\n",
       "    <tr>\n",
       "      <th>58</th>\n",
       "      <td>GGC</td>\n",
       "      <td>Gly</td>\n",
       "      <td>-1</td>\n",
       "    </tr>\n",
       "    <tr>\n",
       "      <th>59</th>\n",
       "      <td>GGA</td>\n",
       "      <td>Gly</td>\n",
       "      <td>-1</td>\n",
       "    </tr>\n",
       "    <tr>\n",
       "      <th>60</th>\n",
       "      <td>GUU</td>\n",
       "      <td>Val</td>\n",
       "      <td>-1</td>\n",
       "    </tr>\n",
       "    <tr>\n",
       "      <th>61</th>\n",
       "      <td>GUG</td>\n",
       "      <td>Val</td>\n",
       "      <td>-1</td>\n",
       "    </tr>\n",
       "    <tr>\n",
       "      <th>62</th>\n",
       "      <td>GGU</td>\n",
       "      <td>Gly</td>\n",
       "      <td>-1</td>\n",
       "    </tr>\n",
       "    <tr>\n",
       "      <th>63</th>\n",
       "      <td>GGG</td>\n",
       "      <td>Gly</td>\n",
       "      <td>-1</td>\n",
       "    </tr>\n",
       "  </tbody>\n",
       "</table>\n",
       "<p>64 rows × 3 columns</p>\n",
       "</div>"
      ],
      "text/plain": [
       "   Kodon Amino  Boja\n",
       "0    CCC   Pro    -1\n",
       "1    CCA   Pro    -1\n",
       "2    CAC   His     1\n",
       "3    CAA   Gln     1\n",
       "4    CCU   Pro    -1\n",
       "5    CCG   Pro    -1\n",
       "6    CAU   His     1\n",
       "7    CAG   Gln     1\n",
       "8    CUC   Leu    -1\n",
       "9    CUA   Leu    -1\n",
       "10   CGC   Arg    -1\n",
       "11   CGA   Arg    -1\n",
       "12   CUU   Leu    -1\n",
       "13   CUG   Leu    -1\n",
       "14   CGU   Arg    -1\n",
       "15   CGG   Arg    -1\n",
       "16   ACC   Thr    -1\n",
       "17   ACA   Thr    -1\n",
       "18   AAC   Asn     1\n",
       "19   AAA   Lys     1\n",
       "20   ACU   Thr    -1\n",
       "21   ACG   Thr    -1\n",
       "22   AAU   Asn     1\n",
       "23   AAG   Lys     1\n",
       "24   AUC   Ile     1\n",
       "25   AUA   Met     1\n",
       "26   AGC   Ser     1\n",
       "27   AGA  Stop     1\n",
       "28   AUU   Ile     1\n",
       "29   AUG   Met     1\n",
       "..   ...   ...   ...\n",
       "34   UAC   Tyr     1\n",
       "35   UAA  Stop     1\n",
       "36   UCU   Ser    -1\n",
       "37   UCG   Ser    -1\n",
       "38   UAU   Tyr     1\n",
       "39   UAG  Stop     1\n",
       "40   UUC   Phe     1\n",
       "41   UUA   Leu     1\n",
       "42   UGC   Cys     1\n",
       "43   UGA   Trp     1\n",
       "44   UUU   Phe     1\n",
       "45   UUG   Leu     1\n",
       "46   UGU   Cys     1\n",
       "47   UGG   Trp     1\n",
       "48   GCC   Ala    -1\n",
       "49   GCA   Ala    -1\n",
       "50   GAC   Asp     1\n",
       "51   GAA   Glu     1\n",
       "52   GCU   Ala    -1\n",
       "53   GCG   Ala    -1\n",
       "54   GAU   Asp     1\n",
       "55   GAG   Glu     1\n",
       "56   GUC   Val    -1\n",
       "57   GUA   Val    -1\n",
       "58   GGC   Gly    -1\n",
       "59   GGA   Gly    -1\n",
       "60   GUU   Val    -1\n",
       "61   GUG   Val    -1\n",
       "62   GGU   Gly    -1\n",
       "63   GGG   Gly    -1\n",
       "\n",
       "[64 rows x 3 columns]"
      ]
     },
     "execution_count": 368,
     "metadata": {},
     "output_type": "execute_result"
    }
   ],
   "source": [
    "gen"
   ]
  },
  {
   "cell_type": "code",
   "execution_count": 369,
   "metadata": {},
   "outputs": [],
   "source": [
    "def make_nucleotide_matrix(m, n, gen):\n",
    "    k = 0\n",
    "    R = [[(\"\", \"\") for i in range(4)] for j in range(4)]\n",
    "    R1 = [(gen['Kodon'][i], gen['Amino'][i]) for i in range(m, n)]\n",
    "    for i in range(4):\n",
    "        for j in range(4):\n",
    "            R[i][j] = R1[k]\n",
    "            k += 1\n",
    "            if k>15:\n",
    "                break\n",
    "    return R"
   ]
  },
  {
   "cell_type": "code",
   "execution_count": 398,
   "metadata": {},
   "outputs": [],
   "source": [
    "C = make_nucleotide_matrix(0, 16, gen)"
   ]
  },
  {
   "cell_type": "code",
   "execution_count": 371,
   "metadata": {},
   "outputs": [
    {
     "data": {
      "text/plain": [
       "[[('CCC', 'Pro'), ('CCA', 'Pro'), ('CAC', 'His'), ('CAA', 'Gln')],\n",
       " [('CCU', 'Pro'), ('CCG', 'Pro'), ('CAU', 'His'), ('CAG', 'Gln')],\n",
       " [('CUC', 'Leu'), ('CUA', 'Leu'), ('CGC', 'Arg'), ('CGA', 'Arg')],\n",
       " [('CUU', 'Leu'), ('CUG', 'Leu'), ('CGU', 'Arg'), ('CGG', 'Arg')]]"
      ]
     },
     "execution_count": 371,
     "metadata": {},
     "output_type": "execute_result"
    }
   ],
   "source": [
    "C"
   ]
  },
  {
   "cell_type": "code",
   "execution_count": 372,
   "metadata": {},
   "outputs": [],
   "source": [
    "A = make_nucleotide_matrix(16, 32, gen)"
   ]
  },
  {
   "cell_type": "code",
   "execution_count": 373,
   "metadata": {},
   "outputs": [
    {
     "data": {
      "text/plain": [
       "[[('ACC', 'Thr'), ('ACA', 'Thr'), ('AAC', 'Asn'), ('AAA', 'Lys')],\n",
       " [('ACU', 'Thr'), ('ACG', 'Thr'), ('AAU', 'Asn'), ('AAG', 'Lys')],\n",
       " [('AUC', 'Ile'), ('AUA', 'Met'), ('AGC', 'Ser'), ('AGA', 'Stop')],\n",
       " [('AUU', 'Ile'), ('AUG', 'Met'), ('AGU', 'Ser'), ('AGG', 'Stop')]]"
      ]
     },
     "execution_count": 373,
     "metadata": {},
     "output_type": "execute_result"
    }
   ],
   "source": [
    "A"
   ]
  },
  {
   "cell_type": "code",
   "execution_count": 374,
   "metadata": {},
   "outputs": [],
   "source": [
    "U = make_nucleotide_matrix(32, 48, gen)"
   ]
  },
  {
   "cell_type": "code",
   "execution_count": 375,
   "metadata": {},
   "outputs": [
    {
     "data": {
      "text/plain": [
       "[[('UCC', 'Ser'), ('UCA', 'Ser'), ('UAC', 'Tyr'), ('UAA', 'Stop')],\n",
       " [('UCU', 'Ser'), ('UCG', 'Ser'), ('UAU', 'Tyr'), ('UAG', 'Stop')],\n",
       " [('UUC', 'Phe'), ('UUA', 'Leu'), ('UGC', 'Cys'), ('UGA', 'Trp')],\n",
       " [('UUU', 'Phe'), ('UUG', 'Leu'), ('UGU', 'Cys'), ('UGG', 'Trp')]]"
      ]
     },
     "execution_count": 375,
     "metadata": {},
     "output_type": "execute_result"
    }
   ],
   "source": [
    "U"
   ]
  },
  {
   "cell_type": "code",
   "execution_count": 376,
   "metadata": {},
   "outputs": [],
   "source": [
    "G = make_nucleotide_matrix(48, 64, gen)"
   ]
  },
  {
   "cell_type": "code",
   "execution_count": 377,
   "metadata": {},
   "outputs": [
    {
     "data": {
      "text/plain": [
       "[[('GCC', 'Ala'), ('GCA', 'Ala'), ('GAC', 'Asp'), ('GAA', 'Glu')],\n",
       " [('GCU', 'Ala'), ('GCG', 'Ala'), ('GAU', 'Asp'), ('GAG', 'Glu')],\n",
       " [('GUC', 'Val'), ('GUA', 'Val'), ('GGC', 'Gly'), ('GGA', 'Gly')],\n",
       " [('GUU', 'Val'), ('GUG', 'Val'), ('GGU', 'Gly'), ('GGG', 'Gly')]]"
      ]
     },
     "execution_count": 377,
     "metadata": {},
     "output_type": "execute_result"
    }
   ],
   "source": [
    "G"
   ]
  },
  {
   "cell_type": "code",
   "execution_count": 378,
   "metadata": {},
   "outputs": [
    {
     "data": {
      "text/plain": [
       "(16, 4, 2)"
      ]
     },
     "execution_count": 378,
     "metadata": {},
     "output_type": "execute_result"
    }
   ],
   "source": [
    "P = np.concatenate((np.concatenate((C, A)), np.concatenate((U, G))))\n",
    "#P.shape\n",
    "P.reshape(8, 8, 2)\n",
    "P.shape"
   ]
  },
  {
   "cell_type": "code",
   "execution_count": 379,
   "metadata": {},
   "outputs": [
    {
     "data": {
      "text/plain": [
       "(8, 8, 2)"
      ]
     },
     "execution_count": 379,
     "metadata": {},
     "output_type": "execute_result"
    }
   ],
   "source": [
    "P = np.vstack((np.hstack((C, A)), np.hstack((U, G))))\n",
    "P.shape"
   ]
  },
  {
   "cell_type": "code",
   "execution_count": 380,
   "metadata": {},
   "outputs": [],
   "source": [
    "#Matrica koja se sastoji od 1 i -1, na osnovu koje pravimo crno-bele kvadrate"
   ]
  },
  {
   "cell_type": "code",
   "execution_count": 381,
   "metadata": {},
   "outputs": [],
   "source": [
    "k = 0\n",
    "color_matrix = np.zeros((8,8))\n",
    "for i in range(8):\n",
    "    for j in range(8):\n",
    "        color_matrix[i][j] = gen[gen['Kodon']==P[i][j][0]]['Boja']\n",
    "        k += 1\n",
    "        if k>63:\n",
    "            break"
   ]
  },
  {
   "cell_type": "code",
   "execution_count": 382,
   "metadata": {},
   "outputs": [
    {
     "data": {
      "image/png": "[encoded data removed]",
      "text/plain": [
       "<IPython.core.display.Image object>"
      ]
     },
     "execution_count": 382,
     "metadata": {},
     "output_type": "execute_result"
    }
   ],
   "source": [
    "from IPython.display import Image\n",
    "Image(filename='Vertebrate.png')"
   ]
  },
  {
   "cell_type": "markdown",
   "metadata": {},
   "source": [
    "Za datu matricu genetskog koda možemo uočiti određene pravilnosti. Naime, dati skup preslikavanja kodona u aminokiseline deli se na \"crne i bele triplete\". Boja tripleta zavisi da li formiranje aminokiseline zavisi od trećeg nukleotida ili ne. Ako fiksiramo prva dva nukleotida, a za treći uzmemo proizvoljno i pritom preslikavanjem dobijemo istu aminokiselinu, onda su u pitanju crni tripleti. U suprotnom govorimo o belim tripletima."
   ]
  },
  {
   "cell_type": "markdown",
   "metadata": {},
   "source": [
    "Nad matricom genetskog koda primenjujemo već pomenutu funkciju za prikaz na način crno-belih kvadrata."
   ]
  },
  {
   "cell_type": "code",
   "execution_count": 383,
   "metadata": {},
   "outputs": [],
   "source": [
    "#color_matrix"
   ]
  },
  {
   "cell_type": "code",
   "execution_count": 384,
   "metadata": {},
   "outputs": [
    {
     "data": {
      "image/png": "[encoded data removed]",
      "text/plain": [
       "<matplotlib.figure.Figure at 0xb7494a8>"
      ]
     },
     "metadata": {},
     "output_type": "display_data"
    }
   ],
   "source": [
    "color_hadamard(color_matrix)"
   ]
  },
  {
   "cell_type": "code",
   "execution_count": null,
   "metadata": {},
   "outputs": [],
   "source": []
  }
 ],
 "metadata": {
  "kernelspec": {
   "display_name": "Python 3",
   "language": "python",
   "name": "python3"
  },
  "language_info": {
   "codemirror_mode": {
    "name": "ipython",
    "version": 3
   },
   "file_extension": ".py",
   "mimetype": "text/x-python",
   "name": "python",
   "nbconvert_exporter": "python",
   "pygments_lexer": "ipython3",
   "version": "3.6.4"
  }
 },
 "nbformat": 4,
 "nbformat_minor": 2
}
